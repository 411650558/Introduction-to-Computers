{
  "nbformat": 4,
  "nbformat_minor": 0,
  "metadata": {
    "colab": {
      "provenance": [],
      "authorship_tag": "ABX9TyNKnflwuQ/sGk378WZJQuGw",
      "include_colab_link": true
    },
    "kernelspec": {
      "name": "python3",
      "display_name": "Python 3"
    },
    "language_info": {
      "name": "python"
    }
  },
  "cells": [
    {
      "cell_type": "markdown",
      "metadata": {
        "id": "view-in-github",
        "colab_type": "text"
      },
      "source": [
        "<a href=\"https://colab.research.google.com/github/411650558/Introduction-to-Computers/blob/main/0515.ipynb\" target=\"_parent\"><img src=\"https://colab.research.google.com/assets/colab-badge.svg\" alt=\"Open In Colab\"/></a>"
      ]
    },
    {
      "cell_type": "code",
      "source": [
        "score=int(input(\"score: \"))\n",
        "if score >=90:\n",
        "  print(\"Grade is: A\")\n",
        "elif score >=80:\n",
        "  print(\"Grade is: B\")\n",
        "elif score >=70:\n",
        "  print(\"Grade is: C\")\n",
        "elif score >=60:\n",
        "  print(\"Grade is: D\")\n",
        "else:\n",
        "  print(\"Grade is: F\")"
      ],
      "metadata": {
        "colab": {
          "base_uri": "https://localhost:8080/"
        },
        "id": "QWJYH93clmYt",
        "outputId": "f415b24c-f0fb-4638-c6fc-5f724365d17c"
      },
      "execution_count": 4,
      "outputs": [
        {
          "output_type": "stream",
          "name": "stdout",
          "text": [
            "score: 70\n",
            "Grade is: C\n"
          ]
        }
      ]
    },
    {
      "cell_type": "code",
      "source": [
        "rain=input(\"今天會下雨嗎?\")\n",
        "if (rain==\"Y\" or rain==\"y\"):\n",
        "  print(\"不用帶傘\")\n",
        "elif(rain==\"n\" or rain==\"N\"):\n",
        "  print(\"要帶傘\")\n",
        "else:\n",
        "  print(\"請重新輸入\")"
      ],
      "metadata": {
        "colab": {
          "base_uri": "https://localhost:8080/"
        },
        "id": "GNkcB9zgm67m",
        "outputId": "c2b1a386-b918-4e6e-db42-9258b11d5377"
      },
      "execution_count": 26,
      "outputs": [
        {
          "output_type": "stream",
          "name": "stdout",
          "text": [
            "今天會下雨嗎?n\n",
            "要帶傘\n"
          ]
        }
      ]
    },
    {
      "cell_type": "code",
      "source": [
        "t=float(input())\n",
        "if(t>=37.5):\n",
        "  print(\"體溫過高!\")\n",
        "elif(t>=37 and t<=37.4):\n",
        "  print(\"體溫略高!\")\n",
        "elif(t>=34 and t<=36.9):\n",
        "  print(\"體溫正常!\")\n",
        "else:\n",
        "  print(\"體溫異常，請重新量測!\")"
      ],
      "metadata": {
        "colab": {
          "base_uri": "https://localhost:8080/"
        },
        "id": "AWhk1X4cm7Cw",
        "outputId": "45202250-41ac-4874-c408-7e89385968ef"
      },
      "execution_count": 23,
      "outputs": [
        {
          "output_type": "stream",
          "name": "stdout",
          "text": [
            "37.1\n",
            "體溫略高!\n"
          ]
        }
      ]
    },
    {
      "cell_type": "code",
      "source": [
        "grade=int(input(\"請輸入成績\"))\n",
        "if grade >=90:\n",
        "  print(\"A\")\n",
        "elif grade >=80:\n",
        "  print(\"B\")\n",
        "elif grade >=70:\n",
        "  print(\"C\")\n",
        "elif grade >=60:\n",
        "  print(\"D\")\n",
        "else:\n",
        "  print(\"E\")"
      ],
      "metadata": {
        "colab": {
          "base_uri": "https://localhost:8080/"
        },
        "id": "EMhVM3C6ofSm",
        "outputId": "2c9be376-73c7-489e-ac4a-351324aadf49"
      },
      "execution_count": 5,
      "outputs": [
        {
          "output_type": "stream",
          "name": "stdout",
          "text": [
            "請輸入成績69\n",
            "D\n"
          ]
        }
      ]
    },
    {
      "cell_type": "code",
      "source": [
        "a=int(input())\n",
        "if(a>=1 and a<=12):\n",
        "  if(a==3 or a==4 or a==5):\n",
        "    print(\"{}月是春天!\".format(a))\n",
        "  elif(a==6 or a==7 or a==8):\n",
        "    print(\"{}月是夏天!\".format(a))\n",
        "  elif(a==9 or a==10 or a==11):   \n",
        "    print(\"{}月是秋天!\".format(a))  \n",
        "  else:\n",
        "    print(\"{}月是冬天\".format(a)) \n",
        "else:\n",
        "  print(\"月份不在範圍內\")"
      ],
      "metadata": {
        "colab": {
          "base_uri": "https://localhost:8080/"
        },
        "id": "XMe8pIn-pFhM",
        "outputId": "8c5fe519-afcf-4747-9915-8451c6eff0e5"
      },
      "execution_count": 10,
      "outputs": [
        {
          "output_type": "stream",
          "name": "stdout",
          "text": [
            "4\n",
            "4月是春天!\n"
          ]
        }
      ]
    },
    {
      "cell_type": "code",
      "source": [
        "b=int(input(\"請輸入今年收入淨額: \"))\n",
        "if(b>=300000):\n",
        "  if b>=2000000:\n",
        "    revenue=b*0.3\n",
        "    print(\"付稅金額: {} 元\".format(revenue))\n",
        "  elif b>=1000000:\n",
        "    revenue=b*0.21\n",
        "    print(\"付稅金額: {} 元\".format(revenue))\n",
        "  elif b>=600000:\n",
        "    revenue=b*0.13\n",
        "    print(\"付稅金額: {} 元\".format(revenue))\n",
        "  else:\n",
        "    revenue=b*0.06\n",
        "    print(\"付稅金額: {} 元\".format(revenue))\n",
        "else:\n",
        "  print(\"付稅金額:0元\")"
      ],
      "metadata": {
        "colab": {
          "base_uri": "https://localhost:8080/"
        },
        "id": "z3dJEShep8h1",
        "outputId": "cdae9021-fee4-40ac-d21d-22167a389360"
      },
      "execution_count": 14,
      "outputs": [
        {
          "output_type": "stream",
          "name": "stdout",
          "text": [
            "請輸入今年收入淨額: 2000000\n",
            "付稅金額: 600000.0 元\n"
          ]
        }
      ]
    }
  ]
}